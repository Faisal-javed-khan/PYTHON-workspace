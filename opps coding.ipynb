{
 "cells": [
  {
   "cell_type": "markdown",
   "id": "c9017157",
   "metadata": {},
   "source": [
    "# oop in python\n",
    "The main concept of OOPs is to bind the data and the functions that work on that together as a single unit so that no other part of the code can access this data."
   ]
  },
  {
   "cell_type": "markdown",
   "id": "ef55b5e2",
   "metadata": {},
   "source": [
    "#### class\n",
    "It is a logical entity that contains some attributes and methods. "
   ]
  },
  {
   "cell_type": "code",
   "execution_count": 14,
   "id": "99453bfa",
   "metadata": {},
   "outputs": [
    {
     "name": "stdout",
     "output_type": "stream",
     "text": [
      "im constructor yahoo\n",
      "car name is 13341 \n",
      "car name is bmw\n"
     ]
    }
   ],
   "source": [
    "#class\n",
    "class car:\n",
    "    carno=13341\n",
    "    def __init__(self , name=\"yahoo\"): # self represents the instance of the class. By using the “self” we can access the attributes and methods of the class in python\n",
    "        self.name=\"bmw\"\n",
    "        self.modno=1223\n",
    "        print(\"im constructor\", name)\n",
    "obj=car()   ##it will get the argu defualt value\n",
    "# obj=car(\"honda\") ###new value\n",
    "print(f\"car name is {obj.__class__.carno} \") #accessing to class attribute\n",
    "print(f\"car name is {obj.name}\")\n",
    "\n"
   ]
  },
  {
   "cell_type": "code",
   "execution_count": 5,
   "id": "1483e684",
   "metadata": {},
   "outputs": [
    {
     "name": "stdout",
     "output_type": "stream",
     "text": [
      "in place of self we can use something else\n",
      "i am a student\n"
     ]
    }
   ],
   "source": [
    "class person:\n",
    "    def __init__(noting_self):\n",
    "        print(\"in place of self we can use something else\")\n",
    "p1=person()\n",
    "\n",
    "class student:\n",
    "    def __init__(yes):\n",
    "        \n",
    "        print(\"i am a student\")\n",
    "\n",
    "s1=student()\n",
    "\n"
   ]
  },
  {
   "cell_type": "code",
   "execution_count": 26,
   "id": "d7ce2788",
   "metadata": {},
   "outputs": [
    {
     "name": "stdout",
     "output_type": "stream",
     "text": [
      "i ma constructor\n",
      "my name is  faisal\n"
     ]
    }
   ],
   "source": [
    "class mobile:\n",
    "    def __init__(self  , name):\n",
    "        self.name=name\n",
    "        print(\"i ma constructor\")\n",
    "        \n",
    "        \n",
    "    def speak(self):\n",
    "        print(\"my name is \", self.name)\n",
    "s1=mobile(\"faisal\")\n",
    "s1.speak()\n"
   ]
  },
  {
   "cell_type": "markdown",
   "id": "62faff2d",
   "metadata": {},
   "source": [
    "# inheretance "
   ]
  },
  {
   "cell_type": "code",
   "execution_count": 7,
   "id": "597b1178",
   "metadata": {},
   "outputs": [
    {
     "name": "stdout",
     "output_type": "stream",
     "text": [
      "name of employefaisal\n",
      "age of an emplye29\n",
      "salary of an employ 23444\n",
      "post of an employengineer\n"
     ]
    }
   ],
   "source": [
    "class person:\n",
    "    def __init__(self , name , age):\n",
    "        self.name=name\n",
    "        self.age=age\n",
    "        \n",
    "    def showdetail(self):\n",
    "        print(f\"name of a person is {self.name}\")\n",
    "        print(f\"age of a persion is {self.age}\")\n",
    "        \n",
    "class employ(person):\n",
    "    def __init__(self, name , age , salary, post):\n",
    "        \n",
    "        self.salary=salary\n",
    "        self.post=post\n",
    " ##  invoking the __init__ of the parent class\n",
    "        person.__init__(self , name , age)   #must specify the name of constructor in child for attribute\n",
    "        \n",
    "    def detail(self):\n",
    "        print(f\"name of employe{self.name}\")\n",
    "        print(f\"age of an emplye{self.age}\")\n",
    "        print(f\"salary of an employ {self.salary}\")\n",
    "        print(f\"post of an employ{self.post}\")\n",
    "        \n",
    "        \n",
    "s1=employ(\"faisal\" , 29 , 23444, \"engineer\")\n",
    "s1.detail()\n",
    "\n"
   ]
  },
  {
   "cell_type": "code",
   "execution_count": 19,
   "id": "61ab077b",
   "metadata": {},
   "outputs": [
    {
     "name": "stdout",
     "output_type": "stream",
     "text": [
      "faisal\n",
      "120000\n",
      "emply name faisal\n",
      "rent =120000\n",
      "house number =1244\n",
      "\n",
      "\n",
      "\n",
      "ali\n",
      "33000\n",
      "emply name ali\n",
      "rent =33000\n",
      "house number =234374\n"
     ]
    }
   ],
   "source": [
    "class building:\n",
    "    def __init__(self, emp , rent):\n",
    "        self.emp=emp\n",
    "        self.rent=rent\n",
    "    def show(self):\n",
    "        print(self.emp)\n",
    "        print(self.rent)\n",
    "class house(building):\n",
    "    \n",
    "    def __init__(self ,emp , rent , houseno):\n",
    "        self.houseno=houseno\n",
    "        ##invoking the __init__ of the parent class\n",
    "        building.__init__(self , emp , rent)\n",
    "    def detailhouse(self):\n",
    "        print(f\"emply name {self.emp}\")\n",
    "        print(f\"rent ={self.rent}\")\n",
    "        print(f\"house number ={self.houseno}\")\n",
    "s2=house(\"faisal\" , 120000 , 1244)\n",
    "s2.show()\n",
    "s2.detailhouse()\n",
    "print(\"\\n\\n\")\n",
    "s3=house(\"ali\" , 33000 , 234374)\n",
    "s3.show()\n",
    "s3.detailhouse()\n"
   ]
  },
  {
   "cell_type": "markdown",
   "id": "010b299c",
   "metadata": {},
   "source": [
    "# multiple inherretance \n",
    "which a child class derived from the multiple parent class\n",
    "class a\n",
    "class b\n",
    "classc(a,b)"
   ]
  },
  {
   "cell_type": "code",
   "execution_count": 36,
   "id": "2d318381",
   "metadata": {},
   "outputs": [
    {
     "name": "stdout",
     "output_type": "stream",
     "text": [
      "a constrctr\n",
      "name of oerson=   fasial\n",
      "age of a person   21\n",
      "color of a person    brown\n"
     ]
    }
   ],
   "source": [
    "class a(object):\n",
    "    def __init__(self , name , age):\n",
    "        self.name =name\n",
    "        self.age=age\n",
    "        print(\"a constrctr\")\n",
    "class b(object):\n",
    "    def __init__(self , color ):\n",
    "        self.color=color\n",
    "class c(a ,b):    ##a and b is the parent of a c class child class \n",
    "    def __init__(self ,name , age , color):\n",
    "        a.__init__(self, name , age)\n",
    "        b.__init__(self ,color)\n",
    "    def deti(self):\n",
    "        print(f\"name of oerson=   {self.name}\")\n",
    "        print(f\"age of a person   {self.age}\")\n",
    "        print(f\"color of a person    {self.color}\")\n",
    "d1=c(\"fasial\" , 21 , \"brown\")\n",
    "d1.deti()\n"
   ]
  },
  {
   "cell_type": "markdown",
   "id": "3ff0fc7e",
   "metadata": {},
   "source": [
    "## multilevel inhertance \n",
    "child classs is parent of the others class\n",
    "When we have a child and grandchild relationship. \n",
    "class a\n",
    "class b(a)\n",
    "class c(b)"
   ]
  },
  {
   "cell_type": "code",
   "execution_count": 8,
   "id": "19df72a6",
   "metadata": {},
   "outputs": [
    {
     "name": "stdout",
     "output_type": "stream",
     "text": [
      "i am cnstr\n",
      "car name    bmw\n",
      "model number is   12333\n",
      "engine number    #234\n"
     ]
    }
   ],
   "source": [
    "class parentclass(object):\n",
    "    def __init__(self, car):\n",
    "        self.car=car\n",
    "        print(\"i am cnstr\")\n",
    "        \n",
    "    def showp(self):\n",
    "        return self.car\n",
    "    \n",
    "class child1(parentclass):\n",
    "    def __init__(self ,car , modelno):\n",
    "        self.modelno=modelno\n",
    "        parentclass.__init__(self, car)\n",
    "        \n",
    "        return modelno\n",
    "class child2(child1):\n",
    "    def __init__(self, car ,modelno,enginno):\n",
    "        self.enginno=enginno\n",
    "        child1.__init__(self, car , modelno)\n",
    "    def showcar(self):\n",
    "        print(f\"car name    {self.car}\")\n",
    "        print(f\"model number is   {self.modelno}\")\n",
    "        print(f\"engine number    {self.enginno}\")\n",
    "        \n",
    "d2=child2(\"bmw\" , 12333, \"#234\")\n",
    "d2.showcar()\n",
    "        \n",
    "    \n",
    "        "
   ]
  },
  {
   "cell_type": "markdown",
   "id": "0e813dbb",
   "metadata": {},
   "source": [
    "# Polymorphism in Python \n",
    "\n",
    "have the same name method\n",
    "Polymorphism uses those methods/functions having same name  to perform different tasks\n",
    "Polymorphism simply means having many forms"
   ]
  },
  {
   "cell_type": "code",
   "execution_count": 12,
   "id": "a953aa17",
   "metadata": {},
   "outputs": [
    {
     "name": "stdout",
     "output_type": "stream",
     "text": [
      "they are multiple  living thing\n",
      "they are multiple  living thing\n",
      "no cannt fly\n",
      "yes they can fly \n"
     ]
    }
   ],
   "source": [
    "class birds:\n",
    "    def __init__(self):\n",
    "        print(\"they are multiple  living thing\")\n",
    "    def flight(self):\n",
    "        print(\"yes they can fly \")\n",
    "class space(birds):\n",
    "    def flight(self):\n",
    "        print(\"no cannt fly\")\n",
    "objj=space()\n",
    "objjj=birds()\n",
    "objj.flight()\n",
    "objjj.flight()\n"
   ]
  },
  {
   "cell_type": "code",
   "execution_count": 2,
   "id": "42dcf2ae",
   "metadata": {},
   "outputs": [
    {
     "name": "stdout",
     "output_type": "stream",
     "text": [
      "ali\n",
      "islam\n"
     ]
    }
   ],
   "source": [
    "class naming:\n",
    "    def name(self):\n",
    "        print(\"ali\")\n",
    "class joining:\n",
    "    def name(self):\n",
    "        print(\"islam\")\n",
    "obj=naming()\n",
    "obj2=joining()\n",
    "obj.name()\n",
    "obj2.name()"
   ]
  },
  {
   "cell_type": "markdown",
   "id": "bf39d9ba",
   "metadata": {},
   "source": [
    "# Encapsulation in Python\n",
    "varaible and method placed in a class and use thier private and protected restriction\n",
    "scope of varaibles use in different classes \n",
    "This puts restrictions on accessing variables and methods directly and can prevent the accidental modification of data. To prevent accidental change, an object’s variable can only be changed by an object’s method. Those types of variables are known as private variables.\n"
   ]
  },
  {
   "cell_type": "code",
   "execution_count": 29,
   "id": "0cd1b9f8",
   "metadata": {},
   "outputs": [
    {
     "name": "stdout",
     "output_type": "stream",
     "text": [
      "100\n",
      "200\n"
     ]
    }
   ],
   "source": [
    "class myclass:\n",
    "    def __init__(self):\n",
    "        self._value1=100  ##protected will use all inherited class and own class  \n",
    "        self.__value2=200 ##privat will use on;y in this class not inherited \n",
    "    def show(self):\n",
    "        print(self._value1)\n",
    "        print(self.__value2)\n",
    "class childclass(myclass):\n",
    "    def showhere(self):\n",
    "        print(self._value1)  ##it can use all inherted class and also in own class \n",
    "        print(self.__value2) ##it willl not exucute here bocz this one is private private will use only in own classclass\n",
    "        \n",
    "# d1=childclass()\n",
    "# d1.showhere()\n",
    "d2=myclass()\n",
    "d2.show()\n"
   ]
  },
  {
   "cell_type": "code",
   "execution_count": 39,
   "id": "94c9ad40",
   "metadata": {},
   "outputs": [
    {
     "name": "stdout",
     "output_type": "stream",
     "text": [
      "344\n",
      "hello\n"
     ]
    }
   ],
   "source": [
    "class capsul:\n",
    "    def __init__(self):\n",
    "        self._x=344\n",
    "        self.__y=\"bfjbs\"\n",
    "        \n",
    "    def data(self):\n",
    "        print(self._x)\n",
    "        print(self.__y)\n",
    "        \n",
    "        \n",
    "class nothing(capsul):\n",
    "    def __init__(self):\n",
    "        self._z=\"hello\"\n",
    "        capsul.__init__(self) ##even if u invoke the varaible of constructr of th perent class\n",
    "        \n",
    "    def showsome(self):\n",
    "        print(self._x)\n",
    "        print(self._z)\n",
    "#         print(self.__y)\n",
    "#         print(self._z)\n",
    "       \n",
    "# f1=capsul()\n",
    "# f1.data()\n",
    "f2=nothing()\n",
    "f2.showsome()"
   ]
  },
  {
   "cell_type": "markdown",
   "id": "a29c75f0",
   "metadata": {},
   "source": [
    "# data abstractiom\n",
    "It hides the unnecessary code details from the user. Also,  when we do not want to give out sensitive parts of our code implementation and this is where data abstraction came."
   ]
  },
  {
   "cell_type": "code",
   "execution_count": 21,
   "id": "eec9f234",
   "metadata": {},
   "outputs": [
    {
     "name": "stdout",
     "output_type": "stream",
     "text": [
      "constructor\n"
     ]
    }
   ],
   "source": [
    "class camel:\n",
    "    def __init__(self, a , b):\n",
    "        self.a=a\n",
    "        self.b=b\n",
    "        print(\"constructor\")\n",
    "    def __str__(self):\n",
    "        print(\"test string one is a:%s string sec is b:%s\" %(self.a, self.b))\n",
    "obb=camel(\"dog\" , \"animal\")\n"
   ]
  },
  {
   "cell_type": "markdown",
   "id": "dd1922c3",
   "metadata": {},
   "source": [
    "## abstruct class rule 1 :object cant create for abstract class \n",
    "    from abc import ABC , abstractmethod \n",
    "    abc is abstract methed which is only cretae not define in abstract class itwill must define in child class\n",
    "    @abstractmethod\n",
    "    def disp(self):\n",
    "        pass\n",
    "    only like this we can create"
   ]
  },
  {
   "cell_type": "code",
   "execution_count": 23,
   "id": "a45a6487",
   "metadata": {},
   "outputs": [
    {
     "name": "stdout",
     "output_type": "stream",
     "text": [
      "somethiing\n",
      "example of abstract function\n"
     ]
    }
   ],
   "source": [
    "from abc import ABC, abstractmethod\n",
    "class father(ABC):\n",
    "    @abstractmethod\n",
    "    #its just create not define here it will define in child class here only u can give to it perameter\n",
    "    def show(self):\n",
    "        pass\n",
    "    def detil(self): ##co\n",
    "        print(\"concrete method\") ##concrete method is same which u define simple method \n",
    "class person(father):\n",
    "    def show(self):\n",
    "        print(\"example of abstract function\")\n",
    "        \n",
    "ob=person() ##u cant create object of an abstract class becox that is predefine \n",
    "ob.detil()\n",
    "ob.show()"
   ]
  },
  {
   "cell_type": "markdown",
   "id": "4b47ec18",
   "metadata": {},
   "source": [
    "### The str() function returns a user-friendly description of an object.\n",
    "The repr() method returns a developer-friendly string representation of an object."
   ]
  },
  {
   "cell_type": "code",
   "execution_count": 24,
   "id": "c0471f1a",
   "metadata": {},
   "outputs": [
    {
     "name": "stdout",
     "output_type": "stream",
     "text": [
      "2022-10-26 13:58:12.119561\n",
      "datetime.datetime(2022, 10, 26, 13, 58, 12, 119561)\n"
     ]
    }
   ],
   "source": [
    "import datetime\n",
    "today = datetime.datetime.now()\n",
    "print(str(today))\n",
    "print(repr(today))\n",
    "# textually funcion=\n",
    "# hen you call str() on an object, it calls the special method __str__ of the object.\n",
    "#  when you call repr() on an object, it calls the special method __repr__ of the object\n",
    "\n"
   ]
  },
  {
   "cell_type": "code",
   "execution_count": 34,
   "id": "19a98612",
   "metadata": {},
   "outputs": [
    {
     "name": "stdout",
     "output_type": "stream",
     "text": [
      "I am a mango\n",
      "[Fruit  mango]\n"
     ]
    }
   ],
   "source": [
    "class Fruit:\n",
    "    def __init__(self, name):\n",
    "        self.name = name\n",
    "    \n",
    "    def __str__(self):\n",
    "        return f'I am a {self.name}'\n",
    "    \n",
    "    def __repr__(self):\n",
    "        return f'Fruit  {self.name}'\n",
    "banana=Fruit(\"mango\")\n",
    "print(banana)\n",
    "print([banana])\n"
   ]
  }
 ],
 "metadata": {
  "kernelspec": {
   "display_name": "Python 3 (ipykernel)",
   "language": "python",
   "name": "python3"
  },
  "language_info": {
   "codemirror_mode": {
    "name": "ipython",
    "version": 3
   },
   "file_extension": ".py",
   "mimetype": "text/x-python",
   "name": "python",
   "nbconvert_exporter": "python",
   "pygments_lexer": "ipython3",
   "version": "3.9.12"
  }
 },
 "nbformat": 4,
 "nbformat_minor": 5
}
