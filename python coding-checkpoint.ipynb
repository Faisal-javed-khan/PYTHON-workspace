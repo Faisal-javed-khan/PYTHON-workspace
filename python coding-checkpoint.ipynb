{
 "cells": [
  {
   "cell_type": "markdown",
   "id": "301ad0ac",
   "metadata": {},
   "source": [
    "# string and some others symbols\n"
   ]
  },
  {
   "cell_type": "code",
   "execution_count": 5,
   "id": "3dd6cee1",
   "metadata": {},
   "outputs": [
    {
     "name": "stdout",
     "output_type": "stream",
     "text": [
      "/some/name\n",
      "\\some\n",
      "ame\n",
      "somme\\name\n",
      "hi islamian how are u\n",
      "my name is =faisal\n",
      "number {}\n",
      "my name is faisal\n"
     ]
    }
   ],
   "source": [
    "print(\"/some/name\")\n",
    "print(\"\\some\\name\")\n",
    "print(\"somme\\name\") #rawstring notation is r to remove all ident\n",
    "print(\"hi islamian how are u\")\n",
    "\n",
    "name=\"faisal\"\n",
    "print(f\"my name is ={name}\")\n",
    "print(\"number {}\")\n",
    "print(\"my name is {}\".format(name))"
   ]
  },
  {
   "cell_type": "code",
   "execution_count": 9,
   "id": "debc3d41",
   "metadata": {},
   "outputs": [
    {
     "name": "stdout",
     "output_type": "stream",
     "text": [
      "eglloc aimalsi\n"
     ]
    },
    {
     "data": {
      "text/plain": [
       "'las'"
      ]
     },
     "execution_count": 9,
     "metadata": {},
     "output_type": "execute_result"
    }
   ],
   "source": [
    "name=\"islamia collge\"\n",
    "print(name[::-1])\n",
    "name[3]\n",
    "name[-4]\n",
    "name[0:5]\n",
    "name[5:8]\n",
    "name[::-1]\n",
    "name2=\"faisal\"\n",
    "# name[6::-1]\n",
    "# name[-5:-2]\n",
    "# print(name2[1:4])\n",
    "# print(name2[::3])\n",
    "# print(name2[: :2])\n",
    "# print(name2[: :-1])\n",
    "# print(name2[:])\n",
    "# print(name[:5:-2])\n",
    "name2[3: :-1]\n",
    "name2[: 2:-1]\n",
    "# name2[::-2]"
   ]
  },
  {
   "cell_type": "markdown",
   "id": "00bec9c7",
   "metadata": {},
   "source": [
    "# format()"
   ]
  },
  {
   "cell_type": "code",
   "execution_count": 6,
   "id": "67e43c35",
   "metadata": {},
   "outputs": [
    {
     "name": "stdout",
     "output_type": "stream",
     "text": [
      "my name is ali\n",
      "my nma is faisal age is 32 \n",
      "my name is ali  age 23\n",
      "my name is ali\n",
      "number 12.3445\n",
      "number 14.2544\n",
      "name ali\n",
      "number 1223\n",
      "number 1223.3467234634*****\n",
      "another nam           1223.3467\n"
     ]
    }
   ],
   "source": [
    "n=\"ali\"\n",
    "print(\"my name is {}\".format(n))\n",
    "print(\"my nma is {name} age is {age} \".format(name=\"faisal\" , age=32))\n",
    "print(\"my name is {0}  age {1}\".format(\"ali\" , 23))\n",
    "\n",
    "print(f\"my name is {n}\")\n",
    "print(\"number {:.4f}\".format(12.3445353456))\n",
    "print(\"number %.4f\" %14.25444666)\n",
    "nam=\"ali\"\n",
    "a=233.4384783743\n",
    "print(\"name %s\" %nam)\n",
    "n=1223.3467234634\n",
    "print(\"number %d\" %n)\n",
    "print(\"number {:*<20}\".format(n))\n",
    "print(\"another nam{:20.4f}\".format(n)) ##20 spaces and 4 decimal nnumber after point\n",
    "\n"
   ]
  },
  {
   "cell_type": "code",
   "execution_count": 3,
   "id": "3a7560a8",
   "metadata": {},
   "outputs": [
    {
     "name": "stdout",
     "output_type": "stream",
     "text": [
      "our uni name is              islamia\n",
      "our uni name is islamia             \n",
      "my name is faisal and my age 12 \n",
      "my name is ali and my age is 33\n",
      "my age is 12********\n",
      "12.345644\n",
      "number is      45555.23423\n",
      "number is 45555.234\n",
      "45555.23423\n",
      "45555.2342\n",
      "45555.234235\n",
      "45555.234\n",
      "45555\n",
      "islamia 45555 45555.234235\n"
     ]
    }
   ],
   "source": [
    "#lenght\n",
    "name=\"islamia\"\n",
    "len(name)\n",
    "\n",
    "print(\"our uni name is {:>20}\".format(name)) ##it will create 20 space for name only use required other will not\n",
    "print(\"our uni name is {:<20}\".format(name))\n",
    "print(\"my name is {name} and my age {age} \".format(name=\"faisal\" ,age=12))\n",
    "print(\"my name is {} and my age is {}\".format(\"ali\" , 33))\n",
    "print(\"my age is {age:*<10}\".format(age=12)) #it will all space with stri*** remain spaces \n",
    "num=12.34564363\n",
    "print(\"{:f}\".format(num))\n",
    "\n",
    "\n",
    "\n",
    "a=45555.23423456\n",
    "\n",
    "print(\"number is      %.5f\" %a)\n",
    "\n",
    "print(\"number is {0:.3f}\".format((a)))\n",
    "print(\"{0:.5f}\".format((a)))\n",
    "print(\"{:.4f}\".format((a)))\n",
    "print(\"{0:.6f}\".format((a)))\n",
    "print(\"%.3f\" %a)\n",
    "print(\"%d\" %a) ##it will return an intger value\n",
    "print(\"%s %d %f\" %(name, a, a))\n"
   ]
  },
  {
   "cell_type": "code",
   "execution_count": 1,
   "id": "e6884776",
   "metadata": {},
   "outputs": [
    {
     "name": "stdout",
     "output_type": "stream",
     "text": [
      "number us 6773.127537\n",
      "number 6773.1275367486\n",
      "naimalsi\n",
      "islamian\n",
      "malsi\n",
      "name show like             islamian\n",
      "name show like islamian************\n",
      "name show like ************islamian\n",
      "ilma\n",
      "lam\n",
      "number is with width6773.128\n",
      "thousand show after colon   =12,452,345,345    \n",
      "first value with index12 second value with index 20\n"
     ]
    }
   ],
   "source": [
    "name=\"islamian\"\n",
    "b=6773.127536748567365\n",
    "print(\"number us {:f}\".format(b)) ##its mean that float store upto six number show\n",
    "print(\"number {:.10f}\".format(b))\n",
    "print(name[: :-1])\n",
    "print(name[: : 1])\n",
    "print(name[4: : -1]) #reverse strat from m \n",
    "print(\"name show like {:>20s}\".format(name))\n",
    "print(\"name show like {:*<20s}\".format(name))\n",
    "print(\"name show like {:*>20s}\".format(name))\n",
    "print(name[: :2])\n",
    "print(name[2:5])\n",
    "print(\"number is with width{:7.3f}\".format(b))  ## 7 boxes mean spaces create and .3 decimal number \n",
    "print(\"thousand show after colon   ={:,}    \".format(12452345345))\n",
    "\n",
    "value=(12 ,20 ,3) ##0[0]=12, 0[1]=20 , 0[2]=3 \n",
    "print(\"first value with index{0[0]} second value with index {0[1]}\".format(value)) ## here value mean 0 index \n",
    "##at every point value index in zero 0 and there internal vlaue have multiple index have each value 0,1,2,..\n"
   ]
  },
  {
   "cell_type": "code",
   "execution_count": 58,
   "id": "df65107c",
   "metadata": {},
   "outputs": [
    {
     "name": "stdout",
     "output_type": "stream",
     "text": [
      "number is 4.234235\n",
      "number is 4.234\n",
      "12.345644\n",
      "12.346\n"
     ]
    }
   ],
   "source": [
    "a=4.23423456\n",
    "print(\"number is {:f}\".format(a))\n",
    "\n",
    "print(\"number is {0:.3f}\".format(a))\n",
    "num=12.34564363\n",
    "print(\"{:f}\".format(num))\n",
    "print(\"{:.3f}\".format(num))\n",
    "print"
   ]
  },
  {
   "cell_type": "code",
   "execution_count": 152,
   "id": "01579fe4",
   "metadata": {},
   "outputs": [
    {
     "name": "stdout",
     "output_type": "stream",
     "text": [
      "ali is a good boy and his father fali is also a good man \n",
      "aliis a good boy his father is fali\n"
     ]
    }
   ],
   "source": [
    "name=\"ali\"\n",
    "fname=\"fali\"\n",
    "print(\"{} is a good boy and his father {} is also a good man \" .format(name, fname))\n",
    "print(f\"{name}is a good boy his father is {fname}\") #new version updated"
   ]
  },
  {
   "cell_type": "markdown",
   "id": "6fa76d4c",
   "metadata": {},
   "source": [
    "# list"
   ]
  },
  {
   "cell_type": "code",
   "execution_count": 123,
   "id": "f726bfa0",
   "metadata": {
    "scrolled": true
   },
   "outputs": [
    {
     "name": "stdout",
     "output_type": "stream",
     "text": [
      "4\n",
      "1\n",
      "[1, 2, 3, 4]\n",
      "10\n",
      "[1, 2, 3, 4, 4, 'hello']\n",
      "6\n",
      "[1, 2, 3, 4, 4, 'hello', 'h', 'e', 'l', 'l', 'o', 'naem']\n",
      "<class 'list'>\n"
     ]
    }
   ],
   "source": [
    "lista=[1,2,3,4]\n",
    "print(lista[3])\n",
    "print(lista[-4])\n",
    "print(lista[:4])\n",
    "lista[1:3]\n",
    "lista+ [4,5,6,7,8,]\n",
    "lista=['a','s','d','f','g','h','h','j']\n",
    "lista[3:5]=['A','S','D','G']\n",
    "lista\n",
    "print(len(lista))\n",
    "listb=[1,2,3,4,4]\n",
    "listb.append(\"hello\")\n",
    "print(listb)\n",
    "print(len(listb))\n",
    "listb.extend(\"hello\")\n",
    "listb.extend({\"naem\": \"ali\"})\n",
    "print(listb)\n",
    "print(type(listb))\n",
    "##extend()will add multiple item and append will only one item "
   ]
  },
  {
   "cell_type": "code",
   "execution_count": 19,
   "id": "2d67e653",
   "metadata": {},
   "outputs": [
    {
     "name": "stdout",
     "output_type": "stream",
     "text": [
      "[1, 2, 34, 3, 4, 5, 6]\n",
      "[1, 2, 34, 3, 4, 5, 6, 'hello']\n",
      "[1, 2, 34, 3, 4, 5, 6, 'hello', 'h', 'e', 'l', 'l', 'o', 1, 2, 3, 4]\n",
      "[2, 5, 4, 3, 7, [3, 4, 5, 76]]\n",
      "[2, 5, 4, 3, 7, [3, 4, 5, 76], 1, 2, 4, 5, 33, 44, 55, {88, 66}]\n",
      "[2, 5, 4, 3, 7, [3, 4, 5, 76], 1, 2, 4, 5, 33, 44, 55, {88, 66}, [44, 33333, 2222, [6677, 888, 999]]]\n"
     ]
    },
    {
     "ename": "TypeError",
     "evalue": "int() argument must be a string, a bytes-like object or a number, not 'list'",
     "output_type": "error",
     "traceback": [
      "\u001b[1;31m---------------------------------------------------------------------------\u001b[0m",
      "\u001b[1;31mTypeError\u001b[0m                                 Traceback (most recent call last)",
      "Input \u001b[1;32mIn [19]\u001b[0m, in \u001b[0;36m<cell line: 17>\u001b[1;34m()\u001b[0m\n\u001b[0;32m     15\u001b[0m cd\u001b[38;5;241m.\u001b[39mappend([\u001b[38;5;241m44\u001b[39m,\u001b[38;5;241m33333\u001b[39m,\u001b[38;5;241m2222\u001b[39m , [\u001b[38;5;241m6677\u001b[39m,\u001b[38;5;241m888\u001b[39m,\u001b[38;5;241m999\u001b[39m]])\n\u001b[0;32m     16\u001b[0m \u001b[38;5;28mprint\u001b[39m(cd)\n\u001b[1;32m---> 17\u001b[0m tt\u001b[38;5;241m=\u001b[39m\u001b[38;5;28;43mint\u001b[39;49m\u001b[43m(\u001b[49m\u001b[43mcd\u001b[49m\u001b[43m)\u001b[49m\n",
      "\u001b[1;31mTypeError\u001b[0m: int() argument must be a string, a bytes-like object or a number, not 'list'"
     ]
    }
   ],
   "source": [
    "ab=[1,2,34,3,4,5,6]\n",
    "print(ab)\n",
    "ab.append(\"hello\")\n",
    "print(ab)\n",
    "ab.extend(\"hello\")\n",
    "ab.extend([1,2,3,4])\n",
    "print(ab)\n",
    "cd=[2,5,4,3,7]\n",
    "cd.append([3,4,5,76])\n",
    "print(cd)\n",
    "cd.extend({2,1,4,5})\n",
    "cd.extend([33,44,55, {88,66}] )\n",
    "print(cd)\n",
    "cd[5]\n",
    "cd.append([44,33333,2222 , [6677,888,999]])\n",
    "print(cd)\n",
    "tt=int(cd)\n"
   ]
  },
  {
   "cell_type": "code",
   "execution_count": 10,
   "id": "e168fc84",
   "metadata": {},
   "outputs": [
    {
     "name": "stdout",
     "output_type": "stream",
     "text": [
      "[0, 1, 2, 3, 4, 5, 6, 7, 8, 9]\n",
      "0\n",
      "1\n",
      "2\n",
      "3\n",
      "4\n",
      "5\n",
      "6\n",
      "7\n",
      "8\n",
      "9\n",
      "{'f'}\n",
      "{'h'}\n",
      "{'s'}\n",
      "{'d'}\n",
      "{'g'}\n",
      "{'f'}\n",
      "{'h'}\n",
      "{'s'}\n",
      "{'a'}\n",
      "{'h'}\n",
      "{'d'}\n",
      "{'f'}\n",
      "{'h'}\n",
      "['f', 'h', 's', 'd', 'g', 'f', 'h', 's', 'a', 'h', 'd', 'f', 'h']\n"
     ]
    }
   ],
   "source": [
    "x=[x  for x in range(0,10)]\n",
    "print(x)\n",
    "\n",
    "for i in range(10):\n",
    "    print(i)\n",
    "    \n",
    "name=\"fhsdgfhsahdfh\"\n",
    "for i in name:\n",
    "    print(set(i))\n",
    "lo=[x for x in name]\n",
    "print(lo)\n"
   ]
  },
  {
   "cell_type": "markdown",
   "id": "d0493174",
   "metadata": {},
   "source": [
    "# IF STATMENT DECISION"
   ]
  },
  {
   "cell_type": "code",
   "execution_count": 30,
   "id": "f6779d80",
   "metadata": {},
   "outputs": [
    {
     "name": "stdout",
     "output_type": "stream",
     "text": [
      "[0, 1, 2, 3, 4, 5, 6, 7, 8, 9]\n",
      "if statement short =  3600\n",
      "for loopp shorthand =1\n",
      "for loopp shorthand =4\n",
      "for loopp shorthand =9\n",
      "for loopp shorthand =16\n",
      "for loopp shorthand =25\n",
      "for loopp shorthand =36\n",
      "for loopp shorthand =49\n",
      "for loopp shorthand =64\n",
      "for loopp shorthand =81\n",
      "range value 1\n",
      "range value 2\n",
      "range value 3\n",
      "range value 4\n",
      "range value 5\n",
      "range value 6\n",
      "range value 7\n",
      "range value 8\n",
      "range value 9\n",
      "helli \n",
      "enter a number =22\n",
      "even numver\n",
      "odd 1\n",
      "even =2\n",
      "odd 3\n",
      "even =4\n",
      "odd 5\n",
      "even =6\n",
      "odd 7\n",
      "even =8\n",
      "odd 9\n",
      "odd number =1\n",
      "even number2\n",
      "odd number =3\n",
      "even number4\n",
      "odd number =5\n",
      "even number6\n",
      "odd number =7\n",
      "even number8\n",
      "odd number =9\n"
     ]
    }
   ],
   "source": [
    "# words=[\"apple\" , \"angor\" , \"bannana\", \"faisal\"]\n",
    "# for i in words:\n",
    "#     print(i , len(i))\n",
    "\n",
    "a=[x for x in range(0,10)]\n",
    "print(a)\n",
    "x=60\n",
    "print(\"if statement short = \", x**2 if x>12 else 0)\n",
    "\n",
    "\n",
    "for i in range(1 ,10):print(f\"for loopp shorthand ={i*i}\")\n",
    "for v in range(1,10): print(f\"range value {v}\")\n",
    "\n",
    "\n",
    "\n",
    "\n",
    "print(\"helli \") if 34<44 else print(\"nothing\")\n",
    "n=int(input(\"enter a number =\"))\n",
    "print(\"even numver\") if n%2==0 else print(\"odd\")\n",
    "for i in range(1,10): print(f\"even ={i}\" if i%2==0 else  f\"odd {i}\" )\n",
    "    \n",
    "\n",
    "for val in range(1,10): print(f\"even number{val}\" if val%2==0 else f\"odd number ={val}\")"
   ]
  },
  {
   "cell_type": "markdown",
   "id": "0e7e971b",
   "metadata": {},
   "source": [
    "# elif shorthand"
   ]
  },
  {
   "cell_type": "code",
   "execution_count": 5,
   "id": "7f3bbb05",
   "metadata": {},
   "outputs": [
    {
     "name": "stdout",
     "output_type": "stream",
     "text": [
      "work\n",
      "<generator object <genexpr> at 0x000001958A203DD0>\n",
      "[1, 2, 3, 4, 5, 6, 7, 8, 9]\n"
     ]
    }
   ],
   "source": [
    "print(\"hello\") if 12>22 else print(\"work\") if 33>22 else print(\"not working\") \n",
    "print(x for x in range(1,10))\n",
    "z=[x for x in range(1,10)]\n",
    "print(z)"
   ]
  },
  {
   "cell_type": "code",
   "execution_count": 38,
   "id": "eedf72b5",
   "metadata": {},
   "outputs": [
    {
     "name": "stdout",
     "output_type": "stream",
     "text": [
      "true value \n",
      "16\n",
      "0.4\n",
      "1\n",
      "2\n",
      "3\n",
      "4\n",
      "5\n",
      "6\n",
      "7\n",
      "8\n",
      "9\n",
      "oddd=  1\n",
      "odd=  2\n",
      "oddd=  3\n",
      "odd=  4\n",
      "oddd=  5\n",
      "odd=  6\n",
      "oddd=  7\n",
      "odd=  8\n",
      "oddd=  9\n"
     ]
    }
   ],
   "source": [
    "print(\"true value \" if 12<13 else \"false\")\n",
    "i=10\n",
    "j=4\n",
    "print(i*i if i<j else j*j )\n",
    "print(i*j if i<=j else j/i)\n",
    "# \n",
    "# for loop\n",
    "for i in range(1,10): print(i)\n",
    "for j in range(1 ,10): print(f\"odd=  {j}\" if j%2==0 else f\"oddd=  {j}\")"
   ]
  },
  {
   "cell_type": "markdown",
   "id": "476120d4",
   "metadata": {},
   "source": [
    "# while loop"
   ]
  },
  {
   "cell_type": "code",
   "execution_count": 7,
   "id": "8e73de62",
   "metadata": {},
   "outputs": [
    {
     "name": "stdout",
     "output_type": "stream",
     "text": [
      "entera number2\n",
      "2\n",
      "3\n",
      "4\n",
      "5\n",
      "6\n",
      "7\n",
      "8\n",
      "9\n"
     ]
    }
   ],
   "source": [
    "w=int(input(\"entera number\"))\n",
    "while w<10: print(w) ; w+=1 "
   ]
  },
  {
   "cell_type": "code",
   "execution_count": 46,
   "id": "8d3dd2f2",
   "metadata": {},
   "outputs": [
    {
     "name": "stdout",
     "output_type": "stream",
     "text": [
      "[1, 4, 9, 16]\n",
      "[2, 4, 6, 8]\n",
      "[1, 3, 5, 7, 9, 11, 13, 15, 17, 19]\n"
     ]
    }
   ],
   "source": [
    "print([x**2 for x in range(1,5) ]) #instead use of append in list use this short hand\n",
    "print([s for s in range(1,10) if s%2==0 ])  ##append to list jst even number\n",
    "print([f for f in range(1,20) if f%2!=0]) ##\n"
   ]
  },
  {
   "cell_type": "markdown",
   "id": "5690ffcb",
   "metadata": {},
   "source": [
    "# nested loop shorthand\n"
   ]
  },
  {
   "cell_type": "code",
   "execution_count": 9,
   "id": "0a28ddec",
   "metadata": {},
   "outputs": [
    {
     "name": "stdout",
     "output_type": "stream",
     "text": [
      "[0, 0, 'islamian', 'i', 's', 'l', 'a', 'm', 'i', 'a', 'n', 0, 1, 'islamian', 'i', 's', 'l', 'a', 'm', 'i', 'a', 'n', 1, 0, 'islamian', 'i', 's', 'l', 'a', 'm', 'i', 'a', 'n', 1, 1, 'islamian', 'i', 's', 'l', 'a', 'm', 'i', 'a', 'n']\n",
      "<class 'list'>\n"
     ]
    }
   ],
   "source": [
    "# for i in range(3):\n",
    "#     for j in range(3):\n",
    "#         print(i , j)\n",
    "# print([(i  ,j ) for i in range(3) for j in range(3)])\n",
    "# print([g for g in range(6) ])\n",
    "\n",
    "plist=[]\n",
    "for d in range(0,2):\n",
    "    for k in range(0,2):\n",
    "        plist.append(d)\n",
    "        plist.append(k)\n",
    "        plist.append(\"islamian\")\n",
    "        plist.extend(\"islamian\")\n",
    "print(plist)\n",
    "print(type(plist))\n",
    "\n",
    "        "
   ]
  },
  {
   "cell_type": "markdown",
   "id": "c857b086",
   "metadata": {},
   "source": [
    "# function short hand \n"
   ]
  },
  {
   "cell_type": "code",
   "execution_count": 28,
   "id": "f2dc3517",
   "metadata": {},
   "outputs": [
    {
     "name": "stdout",
     "output_type": "stream",
     "text": [
      "[1, 2, 3, 4]\n",
      "[2, 3, 4, 5]\n"
     ]
    }
   ],
   "source": [
    "def sum(x ,y): return x*y\n",
    "sum(2,2)\n",
    "\n",
    "##lamda function We use lambda functions when we require a nameless function for a short period of time\n",
    "\n",
    "f2=lambda x,y: x*y \n",
    "f2(3,4)\n",
    "\n",
    "\n",
    "a=[1,2,3,4]\n",
    "b=[x+1 for x in a]\n",
    "print(a)\n",
    "print(b)\n",
    "\n",
    "\n"
   ]
  },
  {
   "cell_type": "code",
   "execution_count": 29,
   "id": "40980e7c",
   "metadata": {},
   "outputs": [
    {
     "name": "stdout",
     "output_type": "stream",
     "text": [
      "0\n",
      "1\n",
      "2\n",
      "3\n",
      "4\n",
      "5\n",
      "6\n",
      "7\n",
      "8\n",
      "9\n"
     ]
    }
   ],
   "source": [
    "for  i in range(10):\n",
    "    print(i)\n",
    "\n"
   ]
  },
  {
   "cell_type": "markdown",
   "id": "efaf8929",
   "metadata": {},
   "source": [
    "# even and odd and prime number "
   ]
  },
  {
   "cell_type": "code",
   "execution_count": 34,
   "id": "3e7c7089",
   "metadata": {},
   "outputs": [
    {
     "name": "stdout",
     "output_type": "stream",
     "text": [
      "['even number =12']\n",
      "oddd1\n",
      "even2\n",
      "oddd3\n",
      "even4\n",
      "oddd5\n",
      "even6\n",
      "oddd7\n",
      "even8\n",
      "oddd9\n"
     ]
    }
   ],
   "source": [
    "### n=int(input(\"enter a number to check a number even or odd\"))\n",
    "n=12\n",
    "a=[f\"even number ={n}\" if n%2==0 else f\"odd number{n}\"]\n",
    "print(a)\n",
    "for i in range(1,10): print(f\"even{i}\" if i%2==0 else f\"oddd{i}\")\n",
    "## for loop : true stat if condition else false stat\n",
    "## true statement if condition false statement \n"
   ]
  },
  {
   "cell_type": "code",
   "execution_count": 10,
   "id": "069a37a7",
   "metadata": {},
   "outputs": [
    {
     "name": "stdout",
     "output_type": "stream",
     "text": [
      "[1, 0, 1, 0, 1, 0, 1]\n",
      "[12, 22, 32, 42]\n",
      "[12, 22, 32, 42]\n",
      "even10\n",
      "even20\n",
      "even30\n",
      "even40\n"
     ]
    }
   ],
   "source": [
    "listr=[1,2,3,4,5,6,7]\n",
    "res=list(map(lambda num:num%2 ,listr))\n",
    "print(res)\n",
    "# map functions expects a function object and any number of iterables like list, dictionary,\n",
    "list2=[10,20,30,40]\n",
    "def inc(n):\n",
    "    return n+2\n",
    "result=list(map(inc, list2))\n",
    "print(result)\n",
    "# for i in result:\n",
    "#     print(i)\n",
    "\n",
    "result2=list(map(lambda n:n+2 , list2))\n",
    "print(result2)\n",
    "\n",
    "def evenodd():\n",
    "    for i in list2:\n",
    "        if i%2==0:\n",
    "            print(f\"even{i}\")\n",
    "        else:\n",
    "            print(f\"odd{i}\")\n",
    "            \n",
    "evenodd()\n",
    "    \n",
    "#"
   ]
  },
  {
   "cell_type": "code",
   "execution_count": 67,
   "id": "97beccd8",
   "metadata": {},
   "outputs": [
    {
     "name": "stdout",
     "output_type": "stream",
     "text": [
      "[13, 35, 47, 26, 71, 96, 26, 65]\n"
     ]
    }
   ],
   "source": [
    "a=[12,33,44,22,66,32,23,63]\n",
    "b=[1,2,3,4,5,64,3,2]\n",
    "result5=list(map(lambda n,m:n+m , a,b))\n",
    "print(result5)"
   ]
  },
  {
   "cell_type": "code",
   "execution_count": null,
   "id": "69fc100a",
   "metadata": {},
   "outputs": [],
   "source": [
    "## count=0\n",
    "number=int(input(\"enter number to find prime number\"))\n",
    "for i in range (1 ,number+1):\n",
    "    if number%i==0:\n",
    "        count+=1\n",
    "if count==2:\n",
    "    print(\"prime number=\", number)\n",
    "else:\n",
    "    print(\"composite number\", number)\n",
    "    "
   ]
  },
  {
   "cell_type": "code",
   "execution_count": null,
   "id": "83443ebc",
   "metadata": {},
   "outputs": [],
   "source": []
  },
  {
   "cell_type": "markdown",
   "id": "bf04568c",
   "metadata": {},
   "source": [
    "# match look like switch"
   ]
  },
  {
   "cell_type": "code",
   "execution_count": 74,
   "id": "81dfc573",
   "metadata": {},
   "outputs": [
    {
     "name": "stdout",
     "output_type": "stream",
     "text": [
      "java has been selected\n",
      "php has been selected\n",
      "python has been selected\n"
     ]
    }
   ],
   "source": [
    "def switch(lang):\n",
    "    if lang==\"java\":\n",
    "        print(\"java has been selected\")\n",
    "    elif lang==\"python\":\n",
    "        print(\"python has been selected\")\n",
    "    elif lang==\"c++\":\n",
    "        print(\"c++ has been selected\")\n",
    "    elif lang==\"php\":\n",
    "        print(\"php has been selected\")\n",
    "switch(\"java\")\n",
    "switch(\"php\")\n",
    "switch(\"python\")\n",
    "\n",
    "\n",
    "\n"
   ]
  },
  {
   "cell_type": "code",
   "execution_count": 80,
   "id": "d33ff93f",
   "metadata": {
    "scrolled": true
   },
   "outputs": [
    {
     "ename": "SyntaxError",
     "evalue": "invalid syntax (635962654.py, line 3)",
     "output_type": "error",
     "traceback": [
      "\u001b[1;36m  Input \u001b[1;32mIn [80]\u001b[1;36m\u001b[0m\n\u001b[1;33m    match lan:\u001b[0m\n\u001b[1;37m          ^\u001b[0m\n\u001b[1;31mSyntaxError\u001b[0m\u001b[1;31m:\u001b[0m invalid syntax\n"
     ]
    }
   ],
   "source": [
    "# but in python we use match and case its work in python 10.3 somthing \n",
    "lan=input(\"enter a language \")\n",
    "match lan:\n",
    "    case \"java\":\n",
    "        print(\"u can become java devel\")\n",
    "    case \"php\":\n",
    "        print(\"u can become php devel\")\n",
    "    case \"python\":\n",
    "        print(\"u can become python d\")\n",
    "        \n",
    "    case_:\n",
    "        print(\"u enter invilid statement\")\n"
   ]
  },
  {
   "cell_type": "code",
   "execution_count": 92,
   "id": "76093cbf",
   "metadata": {},
   "outputs": [
    {
     "ename": "SyntaxError",
     "evalue": "invalid syntax (631645081.py, line 3)",
     "output_type": "error",
     "traceback": [
      "\u001b[1;36m  Input \u001b[1;32mIn [92]\u001b[1;36m\u001b[0m\n\u001b[1;33m    match response_code:\u001b[0m\n\u001b[1;37m          ^\u001b[0m\n\u001b[1;31mSyntaxError\u001b[0m\u001b[1;31m:\u001b[0m invalid syntax\n"
     ]
    }
   ],
   "source": [
    "response_code = 400\n",
    "\n",
    "match response_code:\n",
    "    case 200:\n",
    "        print(\"Everything's peachy!\")\n",
    "        break\n",
    "    case 300:\n",
    "        print(\"You're going somewhere else!\")\n",
    "        break\n",
    "    case 400:\n",
    "        print(\"Uh oh. Are you lost?\")\n",
    "        break\n",
    "    case 500:\n",
    "        print(\"Yikes. Something went wrong!\")\n",
    "        break\n"
   ]
  },
  {
   "cell_type": "code",
   "execution_count": null,
   "id": "36ec3dda",
   "metadata": {},
   "outputs": [],
   "source": [
    "number=int(input(\"enter a number to check even and odd\"))\n",
    "if number%2==0:\n",
    "    print(\"even\" , number)\n",
    "else:\n",
    "    print(\"odd\", number\n",
    "          "
   ]
  },
  {
   "cell_type": "code",
   "execution_count": null,
   "id": "14cc614d",
   "metadata": {},
   "outputs": [],
   "source": [
    "import numpy as np\n",
    "a=np.array([[1,2],[2,3]])\n",
    "b=np.array([[2,4],[5,3]])\n",
    "d=np.array([[4,5], [6,6]])\n",
    "c=a*b\n",
    "result=c+d\n",
    "\n",
    "print(result)"
   ]
  },
  {
   "cell_type": "markdown",
   "id": "4c38f8b3",
   "metadata": {},
   "source": [
    "# fabn series 011235b...."
   ]
  },
  {
   "cell_type": "code",
   "execution_count": 177,
   "id": "970e4670",
   "metadata": {},
   "outputs": [
    {
     "name": "stdout",
     "output_type": "stream",
     "text": [
      "enter a number for fab series 1\n",
      "0\n",
      "1\n"
     ]
    }
   ],
   "source": [
    "num=int(input(\"enter a number for fab series \"))\n",
    "x , y  =0,1\n",
    "z=0\n",
    "result=[]\n",
    "while z<num:\n",
    "    print(z)\n",
    "    x=y\n",
    "    y=z\n",
    "    z=x+y\n",
    "    \n",
    "\n",
    "print(z)\n",
    "\n"
   ]
  },
  {
   "cell_type": "markdown",
   "id": "9f86b150",
   "metadata": {},
   "source": [
    "# function"
   ]
  },
  {
   "cell_type": "code",
   "execution_count": 17,
   "id": "f47a0eb6",
   "metadata": {},
   "outputs": [
    {
     "name": "stdout",
     "output_type": "stream",
     "text": [
      "[1, 1, 2, 3, 5, 8, 13, 21, 34, 55, 89, 144]\n",
      "[1, 1, 2, 3, 5, 8, 13]\n"
     ]
    }
   ],
   "source": [
    "def fab(n):\n",
    "    x,y,z=0,1,0\n",
    "    result=[]\n",
    "    while z<n:\n",
    "#         print(z)\n",
    "        x=y\n",
    "        y=z\n",
    "        z=x+y\n",
    "        result.append(z)\n",
    "    print(result)\n",
    "fab(100)\n",
    "fab(10)"
   ]
  },
  {
   "cell_type": "markdown",
   "id": "a2e1ea58",
   "metadata": {},
   "source": [
    "# lambda function"
   ]
  },
  {
   "cell_type": "code",
   "execution_count": 178,
   "id": "d768119b",
   "metadata": {},
   "outputs": [
    {
     "name": "stdout",
     "output_type": "stream",
     "text": [
      "6\n",
      "10\n"
     ]
    }
   ],
   "source": [
    "##simple function concise code instead wasting time\n",
    "a=lambda x,y:x+y\n",
    "print(a(2,4))\n",
    "\n",
    "x=lambda a,b,c: a+b*c\n",
    "print(x(2,4,2))\n",
    "fun(x,y):\n",
    "    x+y\n",
    "fun(2,3)\n"
   ]
  },
  {
   "cell_type": "code",
   "execution_count": 179,
   "id": "417e1ad4",
   "metadata": {},
   "outputs": [
    {
     "name": "stdout",
     "output_type": "stream",
     "text": [
      "13\n"
     ]
    }
   ],
   "source": [
    "a=lambda x,y:x+y\n",
    "b=lambda f ,r:f*r\n",
    "z=a(2,2)+b(3,3)\n",
    "print(z)"
   ]
  },
  {
   "cell_type": "markdown",
   "id": "f4fc516b",
   "metadata": {},
   "source": [
    "# Data Structures¶"
   ]
  },
  {
   "cell_type": "code",
   "execution_count": 6,
   "id": "c19d0f3f",
   "metadata": {},
   "outputs": [
    {
     "name": "stdout",
     "output_type": "stream",
     "text": [
      "currrent list[1, 2, 3, 4, 5, 6]\n",
      "enter a number22\n",
      "enter index from 0  5 1\n",
      "now its look like this [1, {1, 2, 3, 4}, 22, {'name': 'ali', 'age': 12}, 2, 44, [1, 2, 3], 3, 4, 5, 6]\n"
     ]
    }
   ],
   "source": [
    "#insert(index , num)\n",
    "list5=[1,2,3,4,5,6]\n",
    "print(f\"currrent list{list5}\")\n",
    "newnum=int(input(\"enter a number\"))\n",
    "index=int(input(f\"enter index from 0  {len(list5)-1} \"))\n",
    "list5.insert(index , newnum)\n",
    "list5.insert(3,44)\n",
    "list5.insert(4 , [1,2,3])\n",
    "list5.insert(1, {1,2,3,4})\n",
    "list5.insert(3, {\"name\":\"ali\" , \"age\":12})\n",
    "print(f\"now its look like this {list5}\")"
   ]
  },
  {
   "cell_type": "code",
   "execution_count": 7,
   "id": "4ffdda3c",
   "metadata": {},
   "outputs": [
    {
     "name": "stdout",
     "output_type": "stream",
     "text": [
      "currrent list[1, 2, 3, 4, 5, 6]\n",
      "enter a number66\n",
      "enter index from 0  6 5\n",
      "now its look like this [1, 2, 3, 4, 5, 66, 6]\n"
     ]
    }
   ],
   "source": [
    "#insert(index , num)\n",
    "list=[1,2,3,4,5,6]\n",
    "print(f\"currrent list{list}\")\n",
    "newnum=int(input(\"enter a number\"))\n",
    "index=int(input(f\"enter index from 0  {len(list)} \"))\n",
    "list.insert(index , newnum)\n",
    "print(f\"now its look like this {list}\")"
   ]
  },
  {
   "cell_type": "code",
   "execution_count": 1,
   "id": "347e97cc",
   "metadata": {},
   "outputs": [
    {
     "name": "stdout",
     "output_type": "stream",
     "text": [
      "[2, 3]\n",
      "[2, 3, 1, 2, 1, 1, 1, 3, 4]\n",
      "[2, 3, 1, 2, 1, 1, 1, 3, 4, 'h', 'e', 'l', 'l', 'o']\n",
      "[2, 3, 1, 2, 1, 1, 1, 3, 4, 'h', 'e', 'l', 'l', 'o', 'hello', 'hi', 'man']\n",
      "[2, 3, 2, 1, 1, 1, 3, 4, 'h', 'e', 'l', 'l', 'o', 'hello', 'hi', 'man']\n",
      "[2, 3, 2, 1, 1, 3, 4, 'h', 'e', 'l', 'l', 'o', 'hello', 'hi', 'man']\n",
      "pop [2, 3, 2, 1, 3, 4, 'h', 'e', 'l', 'l', 'o', 'hello', 'hi', 'man']\n",
      "1\n",
      "None\n",
      "None\n",
      "['man', 'hi', 'hello', 'o', 'l', 'l', 'e', 'h', 4, 3, 1, 2, 3, 2]\n",
      "[1, 2, 3, 4, 4, 7, 56]\n",
      "man\n",
      "hi\n",
      "hello\n",
      "o\n",
      "l\n",
      "l\n",
      "e\n",
      "h\n",
      "4\n",
      "3\n",
      "1\n",
      "2\n",
      "3\n",
      "2\n"
     ]
    }
   ],
   "source": [
    "#extend(strinf or num or tuple )\n",
    "list=[]\n",
    "list.extend([2,3])\n",
    "print(list)\n",
    "list.extend((1,2,1,1,1,3,4))\n",
    "print(list)\n",
    "list.extend(\"hello\")\n",
    "print(list)\n",
    "list.extend((\"hello\", \"hi\",\"man\"))\n",
    "print(list)\n",
    "\n",
    "list.remove(1) #remove(element which u want to remove)\n",
    "print(list)\n",
    "list.remove(1)\n",
    "print(list)\n",
    "\n",
    "list.pop(3)  #pop(index element wgich you u want ti remobe )\n",
    "print(\"pop\" ,list)\n",
    "a=[1,2,3,4,4,56,7]\n",
    "print(list.count(1))\n",
    "print(a.reverse())\n",
    "print(list.reverse())\n",
    "print(list)\n",
    "\n",
    "a.sort()\n",
    "print(a)\n",
    "for i in list:\n",
    "    print(i)\n",
    "\n",
    "# list.clear()\n",
    "# a.clear()\n",
    "# print(a)\n",
    "# print(list)"
   ]
  },
  {
   "cell_type": "code",
   "execution_count": 8,
   "id": "4c769cb3",
   "metadata": {},
   "outputs": [
    {
     "name": "stdout",
     "output_type": "stream",
     "text": [
      "[(1, 3), (1, 4), (1, 5), (2, 3), (2, 4), (2, 5), (3, 4), (3, 5)]\n"
     ]
    }
   ],
   "source": [
    "lista=[x**3 for x in range(10)]\n",
    "lista\n",
    "square=[(x,y) for x in [1,2,3] for y in [3,4,5] if x!=y ]\n",
    "print(square)"
   ]
  },
  {
   "cell_type": "markdown",
   "id": "6a9cd22b",
   "metadata": {},
   "source": [
    "# tuple (a,b,c,........) immuable not changable"
   ]
  },
  {
   "cell_type": "code",
   "execution_count": null,
   "id": "5ff38016",
   "metadata": {},
   "outputs": [],
   "source": [
    "tuplea=\"hello\", \"hi\"\n",
    "len(tuplea)\n",
    "tuplea=(1,2,3,\"hi\" ,\"ali\")\n",
    "# tuplea.remove(2)    #immutable\n",
    "# tuplea\n",
    "for i in tuplea:\n",
    "    print(i)\n",
    "\n"
   ]
  },
  {
   "cell_type": "markdown",
   "id": "87cf95c1",
   "metadata": {},
   "source": [
    "# set"
   ]
  },
  {
   "cell_type": "code",
   "execution_count": null,
   "id": "3655b85e",
   "metadata": {},
   "outputs": [],
   "source": [
    "seta={\"apple\", \"ele\" , \"banana\", \"ele\"}\n",
    "print(seta) #duplication is removed from here not allowed immutable"
   ]
  },
  {
   "cell_type": "code",
   "execution_count": 181,
   "id": "df028f39",
   "metadata": {},
   "outputs": [
    {
     "name": "stdout",
     "output_type": "stream",
     "text": [
      "ele\n",
      "banana\n",
      "apple\n",
      "{'d', 'k', 'n', 'h', 'b', 'w', 'f', 'j', 'a', 's', 'r', 'u'}\n"
     ]
    }
   ],
   "source": [
    "for i in seta:\n",
    "    print(i)\n",
    "    \n",
    "a={x for x in \"sdbhbnkbjkawhurhwfj\"}\n",
    "print(a)"
   ]
  },
  {
   "cell_type": "code",
   "execution_count": 182,
   "id": "0f48eeb5",
   "metadata": {},
   "outputs": [
    {
     "name": "stdout",
     "output_type": "stream",
     "text": [
      "{1, 2, 3, 4, 5, 6}\n"
     ]
    },
    {
     "data": {
      "text/plain": [
       "{1, 2, 3, 5, 7, 8}"
      ]
     },
     "execution_count": 182,
     "metadata": {},
     "output_type": "execute_result"
    }
   ],
   "source": [
    "a={1,2,3,4,5,5,6}\n",
    "b={3,2,5,7,8,1}\n",
    "print(a or b)\n",
    "a and b"
   ]
  },
  {
   "cell_type": "markdown",
   "id": "8a52495f",
   "metadata": {},
   "source": [
    "# Dictionaries¶"
   ]
  },
  {
   "cell_type": "code",
   "execution_count": 10,
   "id": "16432d48",
   "metadata": {},
   "outputs": [
    {
     "name": "stdout",
     "output_type": "stream",
     "text": [
      "{'name': 'faisal khan', 'fname': 'javed khan', 'age': 20}\n",
      "['age', 'fname', 'name']\n",
      "20\n",
      "fname\n",
      "['name']\n",
      "{'fname': 'javed khan', 'age': 20}\n",
      "{'fname': 'javed khan', 'age': 333, 'name': 'faisal khan '}\n",
      "for loops=  fname javed khan\n",
      "0 fname\n",
      "1 age\n",
      "2 name\n",
      "for loops=  age 333\n",
      "0 fname\n",
      "1 age\n",
      "2 name\n",
      "for loops=  name faisal khan \n",
      "0 fname\n",
      "1 age\n",
      "2 name\n"
     ]
    }
   ],
   "source": [
    "dict={'name':\"faisal khan\",\n",
    "     \"fname\": \"javed khan\",\n",
    "      'age' : 20\n",
    "     }\n",
    "print(dict)\n",
    "print(sorted(dict))\n",
    "print(dict['age'])\n",
    "print('fname')\n",
    "print(['name'])\n",
    "# print(list(dict)) # it will convert to list but now i have create the list \n",
    "del dict[\"name\"]\n",
    "print(dict)\n",
    "\"ali\" not in dict\n",
    "\"age\" not in dict\n",
    "sorted(dict)\n",
    "dict.keys()\n",
    "dict.values()\n",
    "dict[\"name\"]=\"faisal khan \"\n",
    "dict[\"age\"]=333\n",
    "print(dict)\n",
    "\n",
    "#use for loop in dict\n",
    "for k ,v in dict.items():\n",
    "    print(\"for loops= \" ,k , v)\n",
    "    \n",
    "    \n",
    "    \n",
    "  #use enumerate to index the keys and its value  \n",
    "    \n",
    "    for i ,j in enumerate(dict):\n",
    "        print(i , j)\n"
   ]
  },
  {
   "cell_type": "code",
   "execution_count": null,
   "id": "7ebc7d94",
   "metadata": {},
   "outputs": [],
   "source": []
  },
  {
   "cell_type": "markdown",
   "id": "e5f071fa",
   "metadata": {},
   "source": [
    "# casting"
   ]
  },
  {
   "cell_type": "code",
   "execution_count": 4,
   "id": "2e8b4a1f",
   "metadata": {},
   "outputs": [
    {
     "name": "stdout",
     "output_type": "stream",
     "text": [
      "djfnjasnd\"ali\"lsdnfjsjnfas\n"
     ]
    }
   ],
   "source": [
    "# s=\"djfnjasnd\"ali\"lsdnfjsjnfas\"    it will give an error use escape charactor\n",
    "s=\"djfnjasnd\\\"ali\\\"lsdnfjsjnfas\"\n",
    "print(s)\n"
   ]
  },
  {
   "cell_type": "markdown",
   "id": "dba21da2",
   "metadata": {},
   "source": [
    "# zip function......"
   ]
  },
  {
   "cell_type": "code",
   "execution_count": 11,
   "id": "9319f4d0",
   "metadata": {},
   "outputs": [
    {
     "name": "stdout",
     "output_type": "stream",
     "text": [
      "first name faisal and father name is javed\n",
      "first name ali and father name is haroom\n",
      "first name islamia and father name is uni\n"
     ]
    }
   ],
   "source": [
    "a=(\"faisal\" , \"ali\" ,\"islamia\" )\n",
    "b=(\"javed\" ,\"haroom\" , \"uni\" , \"aki\")\n",
    "for i , j in zip(a ,b):\n",
    "    print(f\"first name {i} and father name is {j}\")\n"
   ]
  },
  {
   "cell_type": "code",
   "execution_count": 185,
   "id": "7514fdf2",
   "metadata": {},
   "outputs": [
    {
     "name": "stdout",
     "output_type": "stream",
     "text": [
      "djfbkjsb\n",
      "9\n",
      "8\n",
      "7\n",
      "6\n",
      "5\n",
      "4\n",
      "3\n",
      "2\n",
      "1\n"
     ]
    }
   ],
   "source": [
    "print(\"djfbkjsb\")\n",
    "for i in reversed(range(1 ,10 , 1)):\n",
    "    print(i)"
   ]
  },
  {
   "cell_type": "code",
   "execution_count": 13,
   "id": "cac9544d",
   "metadata": {},
   "outputs": [
    {
     "name": "stdout",
     "output_type": "stream",
     "text": [
      "khbfbas\n",
      "jksdbfj\n",
      "bilal\n",
      "noor\n",
      "apple\n",
      "khbfbas\n",
      "jksdbfj\n",
      "bilal\n",
      "noor\n",
      "apple\n"
     ]
    }
   ],
   "source": [
    "a=[\"apple\" , \"noor\",\"bilal\", \"jksdbfj\", \"khbfbas\"]\n",
    "for i in reversed(a):\n",
    "    print(i)\n",
    "for j in reversed(a):\n",
    "          print(j)"
   ]
  },
  {
   "cell_type": "code",
   "execution_count": 3,
   "id": "edb42ea3",
   "metadata": {},
   "outputs": [
    {
     "name": "stdout",
     "output_type": "stream",
     "text": [
      "[2, 2.3, 84]\n"
     ]
    }
   ],
   "source": [
    "import math\n",
    "b=[2 ,2.3, float(\"NaN\") , 84 ,float(\"NaN\")]\n",
    "c=[]\n",
    "for i in b:\n",
    "   if not math.isnan(i):\n",
    "        c.append(i)\n",
    "print(c)"
   ]
  },
  {
   "cell_type": "code",
   "execution_count": 17,
   "id": "f70c8203",
   "metadata": {
    "scrolled": true
   },
   "outputs": [
    {
     "name": "stdout",
     "output_type": "stream",
     "text": [
      "[1, 24, 5, 6, 3, 7]\n",
      "[1, 24, 5, 6, 3, 7]\n",
      "[1, 24, 5, 6, 3, 7]\n",
      "[1, 24, 5, 6, 3, 7]\n",
      "[1, 24, 5, 6, 3, 7]\n",
      "[1, 24, 5, 6, 3, 7]\n"
     ]
    }
   ],
   "source": [
    "a=[1,24,5,6,3,7]\n",
    "for i in sorted (a):\n",
    "    print(a)\n"
   ]
  },
  {
   "cell_type": "markdown",
   "id": "4c020ddf",
   "metadata": {},
   "source": [
    "# module "
   ]
  },
  {
   "cell_type": "code",
   "execution_count": 19,
   "id": "9ff3e465",
   "metadata": {},
   "outputs": [
    {
     "name": "stdout",
     "output_type": "stream",
     "text": [
      "0\n",
      "1\n",
      "1\n",
      "2\n",
      "3\n",
      "5\n",
      "8\n",
      "13\n",
      "21\n",
      "34\n",
      "55\n",
      "89\n",
      "144\n"
     ]
    }
   ],
   "source": [
    "def fib(n):\n",
    "    x,y,z=0,1,0\n",
    "    while z<n:\n",
    "        print(z)\n",
    "        x=y\n",
    "        y=z\n",
    "        z=x+y\n",
    "    print(z)\n",
    "fib(100)"
   ]
  },
  {
   "cell_type": "code",
   "execution_count": 7,
   "id": "bb805983",
   "metadata": {},
   "outputs": [
    {
     "data": {
      "text/plain": [
       "['__annotations__',\n",
       " '__call__',\n",
       " '__class__',\n",
       " '__closure__',\n",
       " '__code__',\n",
       " '__defaults__',\n",
       " '__delattr__',\n",
       " '__dict__',\n",
       " '__dir__',\n",
       " '__doc__',\n",
       " '__eq__',\n",
       " '__format__',\n",
       " '__ge__',\n",
       " '__get__',\n",
       " '__getattribute__',\n",
       " '__globals__',\n",
       " '__gt__',\n",
       " '__hash__',\n",
       " '__init__',\n",
       " '__init_subclass__',\n",
       " '__kwdefaults__',\n",
       " '__le__',\n",
       " '__lt__',\n",
       " '__module__',\n",
       " '__name__',\n",
       " '__ne__',\n",
       " '__new__',\n",
       " '__qualname__',\n",
       " '__reduce__',\n",
       " '__reduce_ex__',\n",
       " '__repr__',\n",
       " '__setattr__',\n",
       " '__sizeof__',\n",
       " '__str__',\n",
       " '__subclasshook__']"
      ]
     },
     "execution_count": 7,
     "metadata": {},
     "output_type": "execute_result"
    }
   ],
   "source": [
    "dir(fib)\n",
    "\n"
   ]
  },
  {
   "cell_type": "code",
   "execution_count": 14,
   "id": "185f2c41",
   "metadata": {},
   "outputs": [
    {
     "name": "stdout",
     "output_type": "stream",
     "text": [
      "hello my name is  faisal\n"
     ]
    }
   ],
   "source": [
    "def setName(name):\n",
    "    print(\"hello my name is \", name)\n",
    "   \n",
    "setName(\"faisal\")"
   ]
  },
  {
   "cell_type": "code",
   "execution_count": 18,
   "id": "f15321aa",
   "metadata": {},
   "outputs": [
    {
     "name": "stdout",
     "output_type": "stream",
     "text": [
      "['__doc__', '__loader__', '__name__', '__package__', '__spec__', 'acos', 'acosh', 'asin', 'asinh', 'atan', 'atan2', 'atanh', 'ceil', 'comb', 'copysign', 'cos', 'cosh', 'degrees', 'dist', 'e', 'erf', 'erfc', 'exp', 'expm1', 'fabs', 'factorial', 'floor', 'fmod', 'frexp', 'fsum', 'gamma', 'gcd', 'hypot', 'inf', 'isclose', 'isfinite', 'isinf', 'isnan', 'isqrt', 'lcm', 'ldexp', 'lgamma', 'log', 'log10', 'log1p', 'log2', 'modf', 'nan', 'nextafter', 'perm', 'pi', 'pow', 'prod', 'radians', 'remainder', 'sin', 'sinh', 'sqrt', 'tan', 'tanh', 'tau', 'trunc', 'ulp']\n"
     ]
    }
   ],
   "source": [
    "\n",
    "x=dir(math)\n",
    "print(list(x))\n"
   ]
  },
  {
   "cell_type": "code",
   "execution_count": 19,
   "id": "03064a77",
   "metadata": {},
   "outputs": [
    {
     "name": "stdout",
     "output_type": "stream",
     "text": [
      " my name is faisal and last name is javed \n",
      "its working \n"
     ]
    }
   ],
   "source": [
    "def naming(firstName , lastName):\n",
    "    print(f\" my name is {firstName} and last name is {lastName} \")\n",
    "    print(\"its working \")\n",
    "naming(\"faisal\" , \"javed\")"
   ]
  },
  {
   "cell_type": "code",
   "execution_count": 26,
   "id": "7180e2f8",
   "metadata": {},
   "outputs": [
    {
     "name": "stdout",
     "output_type": "stream",
     "text": [
      "720\n",
      "None\n"
     ]
    }
   ],
   "source": [
    "def multiply(*numbers):  #  *use for multiple argument\n",
    "    total=1\n",
    "    for i in numbers:\n",
    "        total*=i\n",
    "    print(total)\n",
    "print(multiply(1,2,3,4,5,6))  \n",
    "\n"
   ]
  },
  {
   "cell_type": "code",
   "execution_count": 9,
   "id": "fa2e35f9",
   "metadata": {},
   "outputs": [
    {
     "name": "stdout",
     "output_type": "stream",
     "text": [
      "{'id': 12334, 'name': 'ali', 'age': 23}\n"
     ]
    }
   ],
   "source": [
    "def inf(**user):  #** double use for keywords use in different datatype  \n",
    "    print(user)\n",
    "inf(id=12334 , name=\"ali\" , age=23)"
   ]
  },
  {
   "cell_type": "markdown",
   "id": "5f968d2a",
   "metadata": {},
   "source": [
    "# local and global variable"
   ]
  },
  {
   "cell_type": "code",
   "execution_count": 37,
   "id": "66339e4f",
   "metadata": {},
   "outputs": [
    {
     "name": "stdout",
     "output_type": "stream",
     "text": [
      "global  1223\n"
     ]
    }
   ],
   "source": [
    "message=1223\n",
    "def number(input):\n",
    "    num=1\n",
    "    global  message\n",
    "   \n",
    "    print(num)\n",
    "# print(num)\n",
    "print(\"global \" ,message)\n"
   ]
  },
  {
   "cell_type": "code",
   "execution_count": 5,
   "id": "69923ac0",
   "metadata": {},
   "outputs": [
    {
     "name": "stdout",
     "output_type": "stream",
     "text": [
      "23\n",
      "33\n"
     ]
    }
   ],
   "source": [
    "def bizz_buzz(input):\n",
    "    print(input)\n",
    "bizz_buzz(23)\n",
    "bizz_buzz(33)"
   ]
  },
  {
   "cell_type": "code",
   "execution_count": 8,
   "id": "c4f72f6f",
   "metadata": {},
   "outputs": [
    {
     "data": {
      "text/plain": [
       "5"
      ]
     },
     "execution_count": 8,
     "metadata": {},
     "output_type": "execute_result"
    }
   ],
   "source": [
    "class myclass:\n",
    "#     def sum(self ,a,b):\n",
    "    def sum(self , a=None , b=None):\n",
    "        if a!=None and b!=None:\n",
    "           return a+b\n",
    "    \n",
    "#         c=a+b\n",
    "#         return c\n",
    "   \n",
    "obj=myclass()\n",
    "\n",
    "obj.sum(2 ,3)"
   ]
  },
  {
   "cell_type": "code",
   "execution_count": 16,
   "id": "4cc08c89",
   "metadata": {},
   "outputs": [
    {
     "name": "stdout",
     "output_type": "stream",
     "text": [
      "6\n"
     ]
    }
   ],
   "source": [
    "def series(n):\n",
    "    s=1;\n",
    "    for i in range(1 ,n-1):\n",
    "        s=s*i\n",
    "    print(s)\n",
    "series(5)"
   ]
  },
  {
   "cell_type": "code",
   "execution_count": 21,
   "id": "aea3dc07",
   "metadata": {},
   "outputs": [
    {
     "name": "stdout",
     "output_type": "stream",
     "text": [
      "heloo\n"
     ]
    }
   ],
   "source": [
    "a=34\n",
    "b=50\n",
    "if a<b:\n",
    "    print(\"heloo\")\n",
    "elif a>b:\n",
    "    print(\"my sql\")\n",
    "elif a==b:\n",
    "    print(\"morning\")"
   ]
  },
  {
   "cell_type": "code",
   "execution_count": 30,
   "id": "ed353cba",
   "metadata": {},
   "outputs": [
    {
     "name": "stdout",
     "output_type": "stream",
     "text": [
      "1\n",
      "2\n",
      "3\n",
      "4\n"
     ]
    }
   ],
   "source": [
    "for i in range(1 , 10):\n",
    "\n",
    "    if i==5:\n",
    "         break\n",
    "    print(i)"
   ]
  },
  {
   "cell_type": "code",
   "execution_count": 25,
   "id": "e4fe026a",
   "metadata": {},
   "outputs": [
    {
     "name": "stdout",
     "output_type": "stream",
     "text": [
      "1\n",
      "2\n",
      "3\n",
      "4\n",
      "6\n",
      "7\n",
      "8\n",
      "9\n"
     ]
    }
   ],
   "source": [
    "for i in range(1 ,10):\n",
    "    \n",
    "    if i==5:\n",
    "        continue\n",
    "    print(i)"
   ]
  },
  {
   "cell_type": "code",
   "execution_count": 26,
   "id": "7c8be9d7",
   "metadata": {},
   "outputs": [
    {
     "name": "stdout",
     "output_type": "stream",
     "text": [
      "name is  ('ali ', 'khan ', 'faisal')\n",
      "the youngets brother is ali \n",
      "the youngets brother is khan \n",
      "the youngets brother is faisal\n"
     ]
    }
   ],
   "source": [
    "def name(*nam):\n",
    "    print(\"name is \" ,nam)\n",
    "    for i in range(3):\n",
    "        print(\"the youngets brother is\" , nam[i])\n",
    "    \n",
    "name(\"ali \" , \"khan \" , \"faisal\" )\n",
    "# name(\"ali\" , \"haroon\") # tuple ia outof range"
   ]
  },
  {
   "cell_type": "code",
   "execution_count": 41,
   "id": "709c4a29",
   "metadata": {},
   "outputs": [
    {
     "name": "stdout",
     "output_type": "stream",
     "text": [
      "my name is = ('khan', 'sali')\n"
     ]
    }
   ],
   "source": [
    "def user(*name):\n",
    "    print(\"my name is =\" , name)\n",
    "user(\"khan\" , \"sali\")"
   ]
  },
  {
   "cell_type": "code",
   "execution_count": 27,
   "id": "29624934",
   "metadata": {},
   "outputs": [
    {
     "name": "stdout",
     "output_type": "stream",
     "text": [
      "enter namew\n",
      "['w']\n",
      "enter namew\n",
      "['w', 'w']\n",
      "enter namew\n",
      "['w', 'w', 'w']\n"
     ]
    }
   ],
   "source": [
    "def data(n):\n",
    "    nameuser=[]\n",
    "    for i in range(n):\n",
    "        i=input(\"enter name\")\n",
    "        nameuser.append(i)\n",
    "        print(nameuser)\n",
    "data(3)"
   ]
  },
  {
   "cell_type": "code",
   "execution_count": null,
   "id": "029d05ef",
   "metadata": {},
   "outputs": [],
   "source": [
    "import math\n",
    "from math import pi\n",
    "class student:\n",
    "    name=\"aisal\"\n",
    "    print(f\"math pi is equal to {math.pi: .3f}\") ##minimium numer 3f mean after decimal \n",
    "    age=33\n",
    "obj=student\n",
    "obj.name\n",
    "obj.age"
   ]
  },
  {
   "cell_type": "markdown",
   "id": "7d98d123",
   "metadata": {},
   "source": [
    "# string formating "
   ]
  },
  {
   "cell_type": "code",
   "execution_count": 29,
   "id": "9b4314f6",
   "metadata": {},
   "outputs": [
    {
     "name": "stdout",
     "output_type": "stream",
     "text": [
      "pi show decimal less than the orinal point : use for datatype specification  3.142\n",
      "number  22.3434\n",
      "to expand the strinf as a var  no need to write var in string name='faisal' , age=22\n",
      "my name is faisal , and i am 12\n",
      "name is fasial roll number  1234\n"
     ]
    }
   ],
   "source": [
    "import math\n",
    "name=\"faisal\"\n",
    "age=22\n",
    "print(f\"pi show decimal less than the orinal point : use for datatype specification {math.pi: .3f}\") \n",
    "print(f\"number {22.34342 : .4f}\")\n",
    "print(f'to expand the strinf as a var  no need to write var in string {name=} , {age=}')\n",
    "print(\"my name is {0} , and i am {1}\".format(\"faisal\" , 12))\n",
    "\n",
    "table={\"name\": \"fasial\" , \"rolno\":1234}\n",
    "# print(\"my name is {0[name]:str}; name  {0[rolno]:d};\".format(table))\n",
    "print(\"name is {name} roll number  {rolno}\".format(**table))\n"
   ]
  },
  {
   "cell_type": "code",
   "execution_count": 82,
   "id": "f3270603",
   "metadata": {},
   "outputs": [
    {
     "name": "stdout",
     "output_type": "stream",
     "text": [
      "Jack: 4098; Sjoerd: 4127; Dcab: 8637678\n",
      "1 , 1 , 1\n",
      "2 , 4 , 8\n",
      "3 , 9 , 27\n",
      "4 , 16 , 64\n",
      "5 , 25 , 125\n",
      "6 , 36 , 216\n",
      "7 , 49 , 343\n",
      "8 , 64 , 512\n",
      "9 , 81 , 729\n"
     ]
    }
   ],
   "source": [
    "table = {'Sjoerd': 4127, 'Jack': 4098, 'Dcab': 8637678}\n",
    "print('Jack: {0[Jack]:d}; Sjoerd: {0[Sjoerd]:d}; '\n",
    "      'Dcab: {0[Dcab]:d}'.format(table))\n",
    "\n",
    "for i in range(1 , 10):\n",
    "    print(\"{0} , {1} , {2}\".format(i , i*i , i*i*i))\n"
   ]
  },
  {
   "cell_type": "code",
   "execution_count": 33,
   "id": "6e9cf381",
   "metadata": {},
   "outputs": [
    {
     "name": "stdout",
     "output_type": "stream",
     "text": [
      "00000000000000sdbfbs\n",
      "00000000000000000000000000000000sngjfhgf\n"
     ]
    }
   ],
   "source": [
    "#str.zfill use for the filling remain with zero \n",
    "\"233434\".zfill(10)\n",
    "\"-3.23843\".zfill(44)\n",
    "\"sdbf\".zfill(20)\n",
    "\"fasd\".zfill(-20)\n",
    "print(\"sdbfbs\".zfill(20))\n",
    "print(\"sngjfhgf\".zfill(40))"
   ]
  },
  {
   "cell_type": "markdown",
   "id": "1ca8b758",
   "metadata": {},
   "source": [
    "# file handling python"
   ]
  },
  {
   "cell_type": "code",
   "execution_count": 105,
   "id": "d1b258c1",
   "metadata": {},
   "outputs": [
    {
     "name": "stdout",
     "output_type": "stream",
     "text": [
      "[]\n",
      "hello\n",
      "i am islamian islamia collge peshwarislamia collge peshwarislamia collge peshwarislamia collge peshwarislamia collge peshwarislamia collge peshwarislamia collge peshwar\n",
      "my  name is faisalislamia collge peshwar\n",
      "my  name is faisalislamia collge peshwar\n",
      "my  name is faisalislamia collge peshwar\n",
      "my  name is faisalislamia collge peshwar\n",
      "my  name is faisalislamia collge peshwar\n",
      "my  name is faisalislamia collge peshwar\n",
      "my  name is faisal\n"
     ]
    }
   ],
   "source": [
    "f=open('filename.txt' , 'a+')\n",
    "print(f.readlines())\n",
    "f.write(\"islamia collge peshwar\")\n",
    "f.write(\"\\nmy  name is faisal\")\n",
    "f=open('filename.txt' , 'r+')\n",
    "print(f.read())\n"
   ]
  },
  {
   "cell_type": "code",
   "execution_count": 113,
   "id": "76d048d4",
   "metadata": {},
   "outputs": [
    {
     "name": "stdout",
     "output_type": "stream",
     "text": [
      "how much words in this lines = 1\n",
      "['hello\\n']\n",
      "how much words in this lines = 18\n",
      "['i', 'am', 'islamian', 'islamia', 'collge', 'peshwarislamia', 'collge', 'peshwarislamia', 'collge', 'peshwarislamia', 'collge', 'peshwarislamia', 'collge', 'peshwarislamia', 'collge', 'peshwarislamia', 'collge', 'peshwar\\n']\n",
      "how much words in this lines = 7\n",
      "['my', '', 'name', 'is', 'faisalislamia', 'collge', 'peshwar\\n']\n",
      "how much words in this lines = 7\n",
      "['my', '', 'name', 'is', 'faisalislamia', 'collge', 'peshwar\\n']\n",
      "how much words in this lines = 7\n",
      "['my', '', 'name', 'is', 'faisalislamia', 'collge', 'peshwar\\n']\n",
      "how much words in this lines = 7\n",
      "['my', '', 'name', 'is', 'faisalislamia', 'collge', 'peshwar\\n']\n",
      "how much words in this lines = 7\n",
      "['my', '', 'name', 'is', 'faisalislamia', 'collge', 'peshwar\\n']\n",
      "how much words in this lines = 7\n",
      "['my', '', 'name', 'is', 'faisalislamia', 'collge', 'peshwar\\n']\n",
      "how much words in this lines = 5\n",
      "['my', '', 'name', 'is', 'faisal']\n"
     ]
    }
   ],
   "source": [
    "g=open('filename.txt' , \"r+\")\n",
    "for line in g:\n",
    "    words=line.split(\" \")\n",
    "    print(\"how much words in this lines =\" ,len(words))\n",
    "    print(words)\n",
    "g.close()"
   ]
  },
  {
   "cell_type": "code",
   "execution_count": 133,
   "id": "59853cf1",
   "metadata": {},
   "outputs": [],
   "source": [
    "with open('filename.txt' , \"r+\") as g:\n",
    "    \n",
    "    with open('newfile.txt' , 'w') as gout:\n",
    "\n",
    "        for line in g:\n",
    "            words=line.split(\" \")\n",
    "            gout.write(\"words per line     =     (\" + str(len(words)) +')  '+line)\n",
    "#     print(words)\n",
    "##when u use with then no need to use close()\n",
    "\n",
    "\n",
    "\n",
    "          "
   ]
  },
  {
   "cell_type": "markdown",
   "id": "60da8a59",
   "metadata": {},
   "source": [
    "# json \n",
    "load:strinf to dictionary\n",
    "\n",
    "dumps:dict to string \n"
   ]
  },
  {
   "cell_type": "code",
   "execution_count": 149,
   "id": "eb3ce7f3",
   "metadata": {},
   "outputs": [
    {
     "name": "stdout",
     "output_type": "stream",
     "text": [
      "{\"name\": \"nothin\", \"age\": 23, \"heloo\": \"waslm\"} <class 'str'>\n",
      "{'name': 'nothin', 'age': 23, 'heloo': 'waslm'} <class 'dict'>\n",
      "[1, 2, 3, 4, 5] <class 'list'>\n",
      "[1, 2, 3, 4, 5] <class 'str'>\n",
      "[1, 2, 3, 4, 5] <class 'list'>\n"
     ]
    }
   ],
   "source": [
    "import json\n",
    "data={\"name\":\"nothin\", \"age\":23 , \"heloo\":\"waslm\"}\n",
    "\n",
    "a=json.dumps(data)\n",
    "print(a , type(a))\n",
    "# print(b)\n",
    "bdata=json.loads(a)\n",
    "print(bdata , type(bdata))\n",
    "\n",
    "#list\n",
    "listdata=[1,2,3,4,5]\n",
    "print(listdata, type(listdata))\n",
    "cdata=json.dumps(listdata)\n",
    "print(cdata , type(cdata))\n",
    "\n",
    "loadsdata=json.loads(cdata)\n",
    "print(loadsdata , type(loadsdata))\n"
   ]
  },
  {
   "cell_type": "code",
   "execution_count": 19,
   "id": "79c0c560",
   "metadata": {},
   "outputs": [
    {
     "name": "stdout",
     "output_type": "stream",
     "text": [
      "hello my name is faisal\n",
      "dos\n"
     ]
    }
   ],
   "source": [
    "class myclass:\n",
    "    kind=\"dos\"\n",
    "    def __init__(self , name):\n",
    "        print(\"hello my name is\" ,name)\n",
    "d=myclass(\"faisal\")\n",
    "\n",
    "print(d.kind)\n",
    "\n"
   ]
  },
  {
   "cell_type": "code",
   "execution_count": 58,
   "id": "b985550c",
   "metadata": {},
   "outputs": [
    {
     "name": "stdout",
     "output_type": "stream",
     "text": [
      "hello \n",
      "mobile : realme price is :  1000\n",
      "mobile : realme price is :  12222\n"
     ]
    }
   ],
   "source": [
    "class mclass:\n",
    "    \n",
    "\n",
    "    def __init__(self): ##constructr init mean istance varible self is a vriable object of the class\n",
    "           \n",
    "        self.name=\"realme\"\n",
    "        \n",
    "        print(\"hello \" )\n",
    "    def  add(self , n):\n",
    "        print(\"mobile :\", self.name , \"price is : \" , n)\n",
    "obj=mclass()\n",
    "obj.add(1000)\n",
    "obj.add(12222)\n",
    "\n",
    "\n",
    "\n"
   ]
  },
  {
   "cell_type": "markdown",
   "id": "dc701e66",
   "metadata": {},
   "source": [
    "# inheritance "
   ]
  },
  {
   "cell_type": "markdown",
   "id": "49ebfbfd",
   "metadata": {},
   "source": [
    "## single ineritance mean one child"
   ]
  },
  {
   "cell_type": "code",
   "execution_count": 67,
   "id": "a18e01b6",
   "metadata": {},
   "outputs": [
    {
     "name": "stdout",
     "output_type": "stream",
     "text": [
      "this one is the child class 374\n",
      "i am parent class:  191077\n"
     ]
    }
   ],
   "source": [
    "##inheritance have child class and parent class child class use the varaible and method of thr parent class \n",
    "##but parent class cant use the method and variable of the child class \n",
    "class mobile:\n",
    "    mod_no=2345452\n",
    "    def feature(self , no):\n",
    "        print(\"i am parent class: \",no)\n",
    "class realme(mobile):\n",
    "    def function(self , mdno):\n",
    "        print(\"this one is the child class\", mdno)\n",
    "s1=realme()\n",
    "s1.function(374)\n",
    "s1.mod_no\n",
    "s1.feature(191077)"
   ]
  },
  {
   "cell_type": "markdown",
   "id": "05c93689",
   "metadata": {},
   "source": [
    "# constructor of inheritance"
   ]
  },
  {
   "cell_type": "code",
   "execution_count": 70,
   "id": "14e46863",
   "metadata": {},
   "outputs": [
    {
     "name": "stdout",
     "output_type": "stream",
     "text": [
      "i am a parent class constructor\n",
      "child class function\n"
     ]
    }
   ],
   "source": [
    "class pcclass:\n",
    "    def __init__(self):\n",
    "        print(\"i am a parent class constructor\")\n",
    "class baseclass(pcclass):\n",
    "    def show(self):\n",
    "        print(\"child class function\")\n",
    "b=baseclass()\n",
    "b.show()\n"
   ]
  },
  {
   "cell_type": "code",
   "execution_count": 74,
   "id": "5cda066b",
   "metadata": {},
   "outputs": [
    {
     "name": "stdout",
     "output_type": "stream",
     "text": [
      "child class constructor\n"
     ]
    }
   ],
   "source": [
    "class fclass:\n",
    "    def __init__(self):\n",
    "        print(\"parent class constructor\")\n",
    "class bclass(fclass):\n",
    "    def __init__(self):\n",
    "       \n",
    "        print(\"child class constructor\")\n",
    "ob=bclass()"
   ]
  },
  {
   "cell_type": "code",
   "execution_count": 72,
   "id": "6029562c",
   "metadata": {},
   "outputs": [
    {
     "name": "stdout",
     "output_type": "stream",
     "text": [
      "parent class constructor\n",
      "child class constructor\n"
     ]
    }
   ],
   "source": [
    "##let parent class construcotr make super to run forst from child class\n",
    "class fclass:\n",
    "    def __init__(self):\n",
    "        print(\"parent class constructor\")\n",
    "class bclass(fclass):\n",
    "    def __init__(self):\n",
    "        super().__init__()\n",
    "        print(\"child class constructor\")\n",
    "ob=bclass()"
   ]
  },
  {
   "cell_type": "markdown",
   "id": "f942001a",
   "metadata": {},
   "source": [
    "# multi level inheritance"
   ]
  },
  {
   "cell_type": "code",
   "execution_count": 78,
   "id": "0e1c54e9",
   "metadata": {},
   "outputs": [
    {
     "data": {
      "text/plain": [
       "<bound method son.shows of <__main__.grandson object at 0x000002EDA95939D0>>"
      ]
     },
     "execution_count": 78,
     "metadata": {},
     "output_type": "execute_result"
    }
   ],
   "source": [
    "class father:\n",
    "    def showf(self):\n",
    "        print(\"i m father methiod class\")\n",
    "class son(father):\n",
    "    def shows(self):\n",
    "        print(\"i am son classs method\")\n",
    "        \n",
    "class grandson(son):\n",
    "    def showg(self):\n",
    "        return (\"i am grandson mehtod \")\n",
    "s=grandson()\n",
    "s.showg\n",
    "s.shows"
   ]
  },
  {
   "cell_type": "code",
   "execution_count": 82,
   "id": "0eb8f65e",
   "metadata": {},
   "outputs": [
    {
     "data": {
      "text/plain": [
       "'f'"
      ]
     },
     "execution_count": 82,
     "metadata": {},
     "output_type": "execute_result"
    }
   ],
   "source": [
    "s=\"sdfhsaf nsbfbkjb\"\n",
    "it=iter(s)\n",
    "next(it)\n",
    "next(it)\n",
    "next(it)"
   ]
  },
  {
   "cell_type": "code",
   "execution_count": 89,
   "id": "50c9bb97",
   "metadata": {},
   "outputs": [
    {
     "name": "stdout",
     "output_type": "stream",
     "text": [
      "b\n",
      "j\n",
      "k\n",
      "b\n",
      "f\n",
      "b\n",
      "s\n",
      "n\n",
      " \n",
      "f\n",
      "a\n",
      "s\n",
      "h\n",
      "f\n",
      "d\n",
      "s\n"
     ]
    }
   ],
   "source": [
    "\n",
    "s=\"sdfhsaf nsbfbkjb\"\n",
    "def reverse(s):\n",
    "    for index in range(len(s)-1, -1, -1):\n",
    "        yield s[index]   #yield use instead of return to send value back to function\n",
    "for i in reverse(s):\n",
    "    print(i)"
   ]
  },
  {
   "cell_type": "code",
   "execution_count": 94,
   "id": "1686380f",
   "metadata": {},
   "outputs": [
    {
     "name": "stdout",
     "output_type": "stream",
     "text": [
      "8\n",
      "7\n",
      "6\n",
      "6\n",
      "5\n",
      "4\n",
      "3\n",
      "2\n",
      "1\n"
     ]
    }
   ],
   "source": [
    "data=\"123456678\"\n",
    "def rev(data):\n",
    "    for index in range(len(data)-1 , -1 ,-1):\n",
    "        yield data[index]\n",
    "for i in rev(data):\n",
    "    print(i)"
   ]
  },
  {
   "cell_type": "code",
   "execution_count": 5,
   "id": "2063eeee",
   "metadata": {},
   "outputs": [
    {
     "name": "stdout",
     "output_type": "stream",
     "text": [
      "[12, 44, 77, 33, 55, 44]\n"
     ]
    }
   ],
   "source": [
    "lis=[12,44,77,33,55,99,44,222]\n",
    "def avrage(n):\n",
    "    if n<=80:\n",
    "        return True\n",
    "result=list(filter(avrage , lis))\n",
    "print(result)\n",
    "# for i in result:\n",
    "#     print(i)"
   ]
  }
 ],
 "metadata": {
  "kernelspec": {
   "display_name": "Python 3 (ipykernel)",
   "language": "python",
   "name": "python3"
  },
  "language_info": {
   "codemirror_mode": {
    "name": "ipython",
    "version": 3
   },
   "file_extension": ".py",
   "mimetype": "text/x-python",
   "name": "python",
   "nbconvert_exporter": "python",
   "pygments_lexer": "ipython3",
   "version": "3.9.12"
  }
 },
 "nbformat": 4,
 "nbformat_minor": 5
}
